{
 "cells": [
  {
   "cell_type": "markdown",
   "metadata": {},
   "source": [
    "# Papermill notebook test\n",
    "\n",
    "More information in [papermill's GitHub](https://github.com/nteract/papermill)."
   ]
  },
  {
   "cell_type": "code",
   "execution_count": 1,
   "metadata": {},
   "outputs": [],
   "source": [
    "import scrapbook as sb"
   ]
  },
  {
   "cell_type": "code",
   "execution_count": 7,
   "metadata": {
    "tags": [
     "parameters"
    ]
   },
   "outputs": [],
   "source": [
    "version = \"1.0\"\n",
    "integer=5"
   ]
  },
  {
   "cell_type": "code",
   "execution_count": 8,
   "metadata": {},
   "outputs": [
    {
     "name": "stdout",
     "output_type": "stream",
     "text": [
      "10\n"
     ]
    },
    {
     "data": {
      "application/papermill.record+json": {
       "result": 10
      }
     },
     "metadata": {},
     "output_type": "display_data"
    }
   ],
   "source": [
    "def plus_five(num):\n",
    "    return num+5\n",
    "result = plus_five(integer)\n",
    "print(result)\n",
    "sb.glue(\"result\", result)"
   ]
  },
  {
   "cell_type": "code",
   "execution_count": 9,
   "metadata": {},
   "outputs": [
    {
     "name": "stdout",
     "output_type": "stream",
     "text": [
      "True\n"
     ]
    },
    {
     "data": {
      "application/papermill.record+json": {
       "checked_version": true
      }
     },
     "metadata": {},
     "output_type": "display_data"
    }
   ],
   "source": [
    "def check_version(version):\n",
    "    if version < sb.__version__:\n",
    "        raise ValueError(\"Error\")\n",
    "    else:\n",
    "        return True\n",
    "checked_version = check_version(version)\n",
    "print(checked_version)\n",
    "sb.glue(\"checked_version\", checked_version)"
   ]
  },
  {
   "cell_type": "code",
   "execution_count": 10,
   "metadata": {},
   "outputs": [
    {
     "data": {
      "application/papermill.record+json": {
       "integer": 5
      }
     },
     "metadata": {},
     "output_type": "display_data"
    }
   ],
   "source": [
    "sb.glue(\"integer\", integer)"
   ]
  },
  {
   "cell_type": "code",
   "execution_count": null,
   "metadata": {},
   "outputs": [],
   "source": []
  }
 ],
 "metadata": {
  "anaconda-cloud": {},
  "celltoolbar": "Tags",
  "kernelspec": {
   "display_name": "Python 3 (ipykernel)",
   "language": "python",
   "name": "python3"
  },
  "language_info": {
   "codemirror_mode": {
    "name": "ipython",
    "version": 3
   },
   "file_extension": ".py",
   "mimetype": "text/x-python",
   "name": "python",
   "nbconvert_exporter": "python",
   "pygments_lexer": "ipython3",
   "version": "3.9.16"
  }
 },
 "nbformat": 4,
 "nbformat_minor": 2
}
